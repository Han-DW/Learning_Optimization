{
 "cells": [
  {
   "cell_type": "code",
   "execution_count": 123,
   "metadata": {
    "scrolled": true
   },
   "outputs": [
    {
     "name": "stdout",
     "output_type": "stream",
     "text": [
      "[0.5452479  0.80760463]\n",
      "[0.01115148 0.15920221]\n",
      "[0. 0.]\n"
     ]
    }
   ],
   "source": [
    "# %%% CVXPY %%%\n",
    "import cvxpy\n",
    "import numpy\n",
    "# Construct the problem.\n",
    "U = numpy.array([[1,4],\n",
    "                 [0,4]])\n",
    "V = numpy.array([[4,6],\n",
    "                 [2,5]])\n",
    "F = numpy.array([[6,56],\n",
    "                 [20,8]])\n",
    "la0 = [0.5,0.75]\n",
    "laf0 = [0.3,0.9]\n",
    "lamin = [-1]\n",
    "lamax = [1]\n",
    "lafmin = [0]\n",
    "lafmax = [1]\n",
    "la = cvxpy.Variable(2) # n = length of λ: 18121 \n",
    "laf = cvxpy.Variable(2) # n = length of λf: 4318\n",
    "objective = cvxpy.Minimize(cvxpy.sum_squares((la - la0)/la0) + cvxpy.sum_squares((laf-laf0)/laf0))\n",
    "constraints = [lamin <= la, la <= lamax, lafmin <= laf, laf <= lafmax, la * (U - V) + laf * F == 0]\n",
    "prob = cvxpy.Problem(objective, constraints)\n",
    "\n",
    "# The optimal objective value is returned by `prob.solve()`.\n",
    "result = prob.solve()\n",
    "# The optimal value for λ is stored in `λ.value`.\n",
    "print(la.value)\n",
    "print(laf.value)\n",
    "# The optimal Lagrange multiplier for a constraint is stored in\n",
    "# `constraint.dual_value`.\n",
    "print(constraints[0].dual_value) # 0 to 4"
   ]
  },
  {
   "cell_type": "code",
   "execution_count": 124,
   "metadata": {},
   "outputs": [
    {
     "data": {
      "text/plain": [
       "array([3.79620088, 7.30951057])"
      ]
     },
     "execution_count": 124,
     "metadata": {},
     "output_type": "execute_result"
    }
   ],
   "source": [
    "la.value @ U + laf.value @ F"
   ]
  },
  {
   "cell_type": "code",
   "execution_count": 125,
   "metadata": {},
   "outputs": [
    {
     "data": {
      "text/plain": [
       "array([3.79620088, 7.30951057])"
      ]
     },
     "execution_count": 125,
     "metadata": {},
     "output_type": "execute_result"
    }
   ],
   "source": [
    "la.value @ V"
   ]
  },
  {
   "cell_type": "code",
   "execution_count": 126,
   "metadata": {},
   "outputs": [
    {
     "name": "stdout",
     "output_type": "stream",
     "text": [
      "     fun: 1.6186350847319695\n",
      "     jac: array([ 0.36198328,  0.20481646, -6.41885588, -1.82913035])\n",
      " message: 'Optimization terminated successfully.'\n",
      "    nfev: 33\n",
      "     nit: 5\n",
      "    njev: 5\n",
      "  status: 0\n",
      " success: True\n",
      "       x: array([0.5452479 , 0.80760462, 0.01115148, 0.1592022 ])\n"
     ]
    }
   ],
   "source": [
    "# %%% SCIPY %%%\n",
    "from scipy.optimize import minimize\n",
    "import scipy.optimize\n",
    "import numpy\n",
    "U = numpy.array([[1,4],\n",
    "                 [0,4]])\n",
    "V = numpy.array([[4,6],\n",
    "                 [2,5]])\n",
    "F = numpy.array([[6,56],\n",
    "                 [20,8]])\n",
    "la0 = [0.5, 0.75]\n",
    "laf0 = [0.3, 0.9]\n",
    "x0_m = numpy.array([la0,laf0])\n",
    "x0 = x0_m.ravel()\n",
    "def objective (x):\n",
    "    return numpy.sum(((x[0:2] - x0[0:2])/x0[0:2])**2) + numpy.sum(((x[2:4] - x0[2:4])/x0[2:4])**2)\n",
    "def constraint1(x):\n",
    "    return x[0:2] @ (U - V) + x[2:4] @ F\n",
    "b = (-1,1)\n",
    "bnds = (b, b, b, b)\n",
    "con1 = {'type':'eq', 'fun': constraint1}\n",
    "sol = minimize(objective, x0, method = 'SLSQP', bounds = bnds, constraints = con1)\n",
    "print(sol)"
   ]
  },
  {
   "cell_type": "code",
   "execution_count": 171,
   "metadata": {},
   "outputs": [
    {
     "data": {
      "text/plain": [
       "{'Problem': [{'Lower bound': -inf, 'Upper bound': inf, 'Number of objectives': 1, 'Number of constraints': 1, 'Number of variables': 4, 'Sense': 'unknown'}], 'Solver': [{'Status': 'ok', 'Message': 'Ipopt 3.11.1\\\\x3a Optimal Solution Found', 'Termination condition': 'optimal', 'Id': 0, 'Error rc': 0, 'Time': 0.0438845157623291}], 'Solution': [OrderedDict([('number of solutions', 0), ('number of solutions displayed', 0)])]}"
      ]
     },
     "execution_count": 171,
     "metadata": {},
     "output_type": "execute_result"
    }
   ],
   "source": [
    "# %%% PYOMO %%%\n",
    "from pyomo.environ import *\n",
    "import pyomo as po\n",
    "opt = SolverFactory('ipopt')\n",
    "\n",
    "#Construct the problem\n",
    "model = ConcreteModel()\n",
    "U = {}\n",
    "U['a','a'] = 1\n",
    "U['a','b'] = 4\n",
    "U['b','a'] = 0\n",
    "U['b','b'] = 4\n",
    "V = {}\n",
    "V['a','a'] = 4\n",
    "V['a','b'] = 6\n",
    "V['b','a'] = 2\n",
    "V['b','b'] = 5\n",
    "F = {}\n",
    "F['a','a'] = 6\n",
    "F['a','b'] = 56\n",
    "F['b','a'] = 20\n",
    "F['b','b'] = 8\n",
    "model.content = Set(initialize = list('ab'))\n",
    "model.row = Set(initialize = list('A'))\n",
    "model.U = Param(model.content, model.content, initialize=U)\n",
    "model.V = Param(model.content, model.content, initialize=V)\n",
    "model.F = Param(model.content, model.content, initialize=F)\n",
    "la0 = {}\n",
    "la0['A', 'a'] = 0.5\n",
    "la0['A', 'b'] = 0.75\n",
    "laf0 = {}\n",
    "laf0['A', 'a'] = 0.3\n",
    "laf0['A', 'b'] = 0.9\n",
    "model.la0 = Param(model.row, model.content, initialize=la0) #, default = 0 include when sparse\n",
    "model.laf0 = Param(model.row, model.content, initialize=laf0)\n",
    "model.la = Var(model.row, model.content, bounds = (-1, 1))\n",
    "model.laf = Var(model.row, model.content, bounds = (-1, 1))\n",
    "\n",
    "\n",
    "model.obj = Objective(expr = sum(((model.la[r, c] - model.la0[r, c])/model.la0[r, c])**2 + \\\n",
    "                      ((model.laf[r, c] - model.laf0[r, c])/model.laf0[r, c])**2 \\\n",
    "                                 for r in model.row for c in model.content), sense = minimize)\n",
    "\n",
    "\n",
    "model.c1 = Constraint(expr = model.la[('A','a')]*(model.U[('a','a')]-model.V[('a','a')])+model.la[('A','b')]*(model.U[('b','a')]-model.V[('b','a')])+\\\n",
    "model.la[('A','a')]*(model.U[('a','b')]-model.V[('a','b')])+model.la[('A','b')]*(model.U[('b','b')]-model.V[('b','b')])+\\\n",
    "model.laf[('A','a')]*model.F[('a','a')]+model.laf[('A','b')]*model.F[('b','a')]+model.laf[('A','a')]*model.F[('a','b')]+\\\n",
    "model.laf[('A','b')]*model.F[('b','b')] == 0)\n",
    "\n",
    "status = opt.solve(model)\n",
    "status"
   ]
  },
  {
   "cell_type": "code",
   "execution_count": 177,
   "metadata": {},
   "outputs": [
    {
     "name": "stdout",
     "output_type": "stream",
     "text": [
      "Model unknown\n",
      "\n",
      "  Variables:\n",
      "    la : Size=2, Index=la_index\n",
      "        Key        : Lower : Value              : Upper : Fixed : Stale : Domain\n",
      "        ('A', 'a') :    -1 : 0.5491906526673481 :     1 : False : False :  Reals\n",
      "        ('A', 'b') :    -1 : 0.8164073782649921 :     1 : False : False :  Reals\n",
      "    laf : Size=2, Index=laf_index\n",
      "        Key        : Lower : Value               : Upper : Fixed : Stale : Domain\n",
      "        ('A', 'a') :    -1 :  0.0804129242736012 :     1 : False : False :  Reals\n",
      "        ('A', 'b') :    -1 : 0.00748478904173008 :     1 : False : False :  Reals\n",
      "\n",
      "  Objectives:\n",
      "    obj : Size=1, Index=None, Active=True\n",
      "        Key  : Active : Value\n",
      "        None :   True : 1.5367160042829249\n",
      "\n",
      "  Constraints:\n",
      "    c1 : Size=1\n",
      "        Key  : Lower : Body                   : Upper\n",
      "        None :   0.0 : -2.498001805406602e-16 :   0.0\n"
     ]
    }
   ],
   "source": [
    "#Results\n",
    "model.display()"
   ]
  },
  {
   "cell_type": "code",
   "execution_count": 178,
   "metadata": {},
   "outputs": [
    {
     "name": "stdout",
     "output_type": "stream",
     "text": [
      "c1 : Size=1, Index=None, Active=True\n",
      "    Key  : Lower : Body                                                                                               : Upper : Active\n",
      "    None :   0.0 : -3*la[A,a] - 2*la[A,b] - 2*la[A,a] - la[A,b] + 6*laf[A,a] + 20*laf[A,b] + 56*laf[A,a] + 8*laf[A,b] :   0.0 :   True\n"
     ]
    }
   ],
   "source": [
    "#Check if constraint fullfilled\n",
    "model.c1.pprint()"
   ]
  }
 ],
 "metadata": {
  "kernelspec": {
   "display_name": "Python 3",
   "language": "python",
   "name": "python3"
  },
  "language_info": {
   "codemirror_mode": {
    "name": "ipython",
    "version": 3
   },
   "file_extension": ".py",
   "mimetype": "text/x-python",
   "name": "python",
   "nbconvert_exporter": "python",
   "pygments_lexer": "ipython3",
   "version": "3.7.4"
  }
 },
 "nbformat": 4,
 "nbformat_minor": 2
}
